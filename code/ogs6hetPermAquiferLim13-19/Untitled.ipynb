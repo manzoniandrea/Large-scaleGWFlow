{
 "cells": [
  {
   "cell_type": "code",
   "execution_count": 3,
   "id": "b7f05489",
   "metadata": {},
   "outputs": [
    {
     "name": "stdout",
     "output_type": "stream",
     "text": [
      "Error code: 1\n"
     ]
    },
    {
     "ename": "RuntimeError",
     "evalue": "OGS execution was not successfull.",
     "output_type": "error",
     "traceback": [
      "\u001b[1;31m---------------------------------------------------------------------------\u001b[0m",
      "\u001b[1;31mRuntimeError\u001b[0m                              Traceback (most recent call last)",
      "\u001b[1;32m~\\AppData\\Local\\Temp/ipykernel_38508/2154685858.py\u001b[0m in \u001b[0;36m<module>\u001b[1;34m\u001b[0m\n\u001b[0;32m     86\u001b[0m                               error_tolerance=\"1e-16\")\n\u001b[0;32m     87\u001b[0m \u001b[0mmodel\u001b[0m\u001b[1;33m.\u001b[0m\u001b[0mwrite_input\u001b[0m\u001b[1;33m(\u001b[0m\u001b[1;33m)\u001b[0m\u001b[1;33m\u001b[0m\u001b[1;33m\u001b[0m\u001b[0m\n\u001b[1;32m---> 88\u001b[1;33m \u001b[0mmodel\u001b[0m\u001b[1;33m.\u001b[0m\u001b[0mrun_model\u001b[0m\u001b[1;33m(\u001b[0m\u001b[0mlogfile\u001b[0m\u001b[1;33m=\u001b[0m\u001b[1;34m\"out.log\"\u001b[0m\u001b[1;33m)\u001b[0m\u001b[1;33m\u001b[0m\u001b[1;33m\u001b[0m\u001b[0m\n\u001b[0m",
      "\u001b[1;32m~\\anaconda3\\lib\\site-packages\\ogs6py\\ogs.py\u001b[0m in \u001b[0;36mrun_model\u001b[1;34m(self, logfile, path, args, container_path, wrapper, write_logs)\u001b[0m\n\u001b[0;32m    510\u001b[0m                     \u001b[1;32mif\u001b[0m \u001b[0mi\u001b[0m \u001b[1;33m>\u001b[0m \u001b[0mnum_lines\u001b[0m\u001b[1;33m-\u001b[0m\u001b[1;36m10\u001b[0m\u001b[1;33m:\u001b[0m\u001b[1;33m\u001b[0m\u001b[1;33m\u001b[0m\u001b[0m\n\u001b[0;32m    511\u001b[0m                         \u001b[0mprint\u001b[0m\u001b[1;33m(\u001b[0m\u001b[0mline\u001b[0m\u001b[1;33m)\u001b[0m\u001b[1;33m\u001b[0m\u001b[1;33m\u001b[0m\u001b[0m\n\u001b[1;32m--> 512\u001b[1;33m             \u001b[1;32mraise\u001b[0m \u001b[0mRuntimeError\u001b[0m\u001b[1;33m(\u001b[0m\u001b[1;34m'OGS execution was not successfull.'\u001b[0m\u001b[1;33m)\u001b[0m\u001b[1;33m\u001b[0m\u001b[1;33m\u001b[0m\u001b[0m\n\u001b[0m\u001b[0;32m    513\u001b[0m \u001b[1;33m\u001b[0m\u001b[0m\n\u001b[0;32m    514\u001b[0m     \u001b[1;32mdef\u001b[0m \u001b[0mwrite_input\u001b[0m\u001b[1;33m(\u001b[0m\u001b[0mself\u001b[0m\u001b[1;33m,\u001b[0m \u001b[0mkeep_includes\u001b[0m\u001b[1;33m=\u001b[0m\u001b[1;32mFalse\u001b[0m\u001b[1;33m)\u001b[0m\u001b[1;33m:\u001b[0m\u001b[1;33m\u001b[0m\u001b[1;33m\u001b[0m\u001b[0m\n",
      "\u001b[1;31mRuntimeError\u001b[0m: OGS execution was not successfull."
     ]
    }
   ],
   "source": [
    "from ogs6py import ogs\n",
    "\n",
    "model = ogs.OGS(PROJECT_FILE=\"simple_mechanics.prj\")\n",
    "model.geo.add_geom(filename=\"square_1x1.gml\")\n",
    "model.mesh.add_mesh(filename=\"square_1x1_quad_1e2.vtu\")\n",
    "model.processes.set_process(name=\"SD\",\n",
    "                           type=\"SMALL_DEFORMATION\",\n",
    "                           integration_order=\"2\",\n",
    "                           solid_density=\"rho_sr\",\n",
    "                           specific_body_force=\"0 0\")\n",
    "model.processes.set_constitutive_relation(type=\"LinearElasticIsotropic\",\n",
    "                                        youngs_modulus=\"E\",\n",
    "                                        poissons_ratio=\"nu\")\n",
    "model.processes.add_process_variable(process_variable=\"process_variable\",\n",
    "                                   process_variable_name=\"displacement\")\n",
    "model.processes.add_process_variable(secondary_variable=\"sigma\",\n",
    "                                   output_name=\"sigma\")\n",
    "model.timeloop.add_process(process=\"SD\",\n",
    "                          nonlinear_solver_name=\"basic_newton\",\n",
    "                          convergence_type=\"DeltaX\",\n",
    "                          norm_type=\"NORM2\",\n",
    "                          abstol=\"1e-15\",\n",
    "                          time_discretization=\"BackwardEuler\")\n",
    "model.timeloop.set_stepping(process=\"SD\", type=\"FixedTimeStepping\",\n",
    "                           t_initial=\"0\",\n",
    "                           t_end=\"1\",\n",
    "                           repeat=\"4\",\n",
    "                           delta_t=\"0.25\")\n",
    "model.timeloop.add_output(type=\"VTK\",\n",
    "                         prefix=\"blubb\",\n",
    "                         repeat=\"1\",\n",
    "                         each_steps=\"10\",\n",
    "                         variables=[\"displacement\", \"sigma\"])\n",
    "model.parameters.add_parameter(name=\"E\", type=\"Constant\", value=\"1\")\n",
    "model.parameters.add_parameter(name=\"nu\", type=\"Constant\", value=\"0.3\")\n",
    "model.parameters.add_parameter(name=\"rho_sr\", type=\"Constant\", value=\"1\")\n",
    "model.parameters.add_parameter(name=\"displacement0\",\n",
    "                              type=\"Constant\",\n",
    "                              values=\"0 0\")\n",
    "model.parameters.add_parameter(name=\"dirichlet0\", type=\"Constant\", value=\"0\")\n",
    "model.parameters.add_parameter(name=\"dirichlet1\", type=\"Constant\", value=\"0.05\")\n",
    "model.processvars.set_ic(process_variable_name=\"displacement\",\n",
    "                        components=\"2\",\n",
    "                        order=\"1\",\n",
    "                        initial_condition=\"displacement0\")\n",
    "model.processvars.add_bc(process_variable_name=\"displacement\",\n",
    "                        geometrical_set=\"square_1x1_geometry\",\n",
    "                        geometry=\"left\",\n",
    "                        type=\"Dirichlet\",\n",
    "                        component=\"0\",\n",
    "                        parameter=\"dirichlet0\")\n",
    "model.processvars.add_bc(process_variable_name=\"displacement\",\n",
    "                        geometrical_set=\"square_1x1_geometry\",\n",
    "                        geometry=\"bottom\",\n",
    "                        type=\"Dirichlet\",\n",
    "                        component=\"1\",\n",
    "                        parameter=\"dirichlet0\")\n",
    "model.processvars.add_bc(process_variable_name=\"displacement\",\n",
    "                        geometrical_set=\"square_1x1_geometry\",\n",
    "                        geometry=\"top\",\n",
    "                        type=\"Dirichlet\",\n",
    "                        component=\"1\",\n",
    "                        parameter=\"dirichlet1\")\n",
    "model.nonlinsolvers.add_non_lin_solver(name=\"basic_newton\",\n",
    "                                    type=\"Newton\",\n",
    "                                    max_iter=\"4\",\n",
    "                                    linear_solver=\"general_linear_solver\")\n",
    "model.linsolvers.add_lin_solver(name=\"general_linear_solver\",\n",
    "                              kind=\"lis\",\n",
    "                              solver_type=\"cg\",\n",
    "                              precon_type=\"jacobi\",\n",
    "                              max_iteration_step=\"10000\",\n",
    "                              error_tolerance=\"1e-16\")\n",
    "model.linsolvers.add_lin_solver(name=\"general_linear_solver\",\n",
    "                              kind=\"eigen\",\n",
    "                              solver_type=\"CG\",\n",
    "                              precon_type=\"DIAGONAL\",\n",
    "                              max_iteration_step=\"10000\",\n",
    "                              error_tolerance=\"1e-16\")\n",
    "model.linsolvers.add_lin_solver(name=\"general_linear_solver\",\n",
    "                              kind=\"petsc\",\n",
    "                              prefix=\"sd\",\n",
    "                              solver_type=\"cg\",\n",
    "                              precon_type=\"bjacobi\",\n",
    "                              max_iteration_step=\"10000\",\n",
    "                              error_tolerance=\"1e-16\")\n",
    "model.write_input()\n",
    "model.run_model(logfile=\"out.log\")"
   ]
  },
  {
   "cell_type": "code",
   "execution_count": 6,
   "id": "314daa52",
   "metadata": {},
   "outputs": [
    {
     "name": "stdout",
     "output_type": "stream",
     "text": [
      "mpirun -np 2 ogs C:\\Users\\Andrea\\Downloads\\ogs-master\\ogs-master\\Tests\\Data/EllipticPETSc/square_1e1_neumann.prj > out.txt\n",
      "2022-10-25 18:00:38.822368\n"
     ]
    },
    {
     "name": "stderr",
     "output_type": "stream",
     "text": [
      "'mpirun' is not recognized as an internal or external command,\n",
      "operable program or batch file.\n"
     ]
    },
    {
     "ename": "RuntimeError",
     "evalue": "File not found: square_1e1_neumann.pvd",
     "output_type": "error",
     "traceback": [
      "\u001b[1;31m---------------------------------------------------------------------------\u001b[0m",
      "\u001b[1;31mRuntimeError\u001b[0m                              Traceback (most recent call last)",
      "\u001b[1;32m~\\AppData\\Local\\Temp/ipykernel_38508/4156547227.py\u001b[0m in \u001b[0;36m<module>\u001b[1;34m\u001b[0m\n\u001b[0;32m     18\u001b[0m \u001b[1;32mimport\u001b[0m \u001b[0mvtuIO\u001b[0m\u001b[1;33m\u001b[0m\u001b[1;33m\u001b[0m\u001b[0m\n\u001b[0;32m     19\u001b[0m \u001b[1;33m\u001b[0m\u001b[0m\n\u001b[1;32m---> 20\u001b[1;33m \u001b[0mpvdfile\u001b[0m \u001b[1;33m=\u001b[0m \u001b[0mvtuIO\u001b[0m\u001b[1;33m.\u001b[0m\u001b[0mPVDIO\u001b[0m\u001b[1;33m(\u001b[0m\u001b[1;34mf\"{prj_name}.pvd\"\u001b[0m\u001b[1;33m,\u001b[0m \u001b[0mdim\u001b[0m\u001b[1;33m=\u001b[0m\u001b[1;36m2\u001b[0m\u001b[1;33m)\u001b[0m\u001b[1;33m\u001b[0m\u001b[1;33m\u001b[0m\u001b[0m\n\u001b[0m\u001b[0;32m     21\u001b[0m \u001b[0mtime\u001b[0m \u001b[1;33m=\u001b[0m \u001b[0mpvdfile\u001b[0m\u001b[1;33m.\u001b[0m\u001b[0mtimesteps\u001b[0m\u001b[1;33m\u001b[0m\u001b[1;33m\u001b[0m\u001b[0m\n\u001b[0;32m     22\u001b[0m \u001b[0mpoints\u001b[0m\u001b[1;33m=\u001b[0m\u001b[1;33m{\u001b[0m\u001b[1;34m'pt0'\u001b[0m\u001b[1;33m:\u001b[0m \u001b[1;33m(\u001b[0m\u001b[1;36m0.3\u001b[0m\u001b[1;33m,\u001b[0m\u001b[1;36m0.5\u001b[0m\u001b[1;33m,\u001b[0m\u001b[1;36m0.0\u001b[0m\u001b[1;33m)\u001b[0m\u001b[1;33m,\u001b[0m \u001b[1;34m'pt1'\u001b[0m\u001b[1;33m:\u001b[0m \u001b[1;33m(\u001b[0m\u001b[1;36m0.24\u001b[0m\u001b[1;33m,\u001b[0m\u001b[1;36m0.21\u001b[0m\u001b[1;33m,\u001b[0m\u001b[1;36m0.0\u001b[0m\u001b[1;33m)\u001b[0m\u001b[1;33m}\u001b[0m\u001b[1;33m\u001b[0m\u001b[1;33m\u001b[0m\u001b[0m\n",
      "\u001b[1;32m~\\anaconda3\\lib\\site-packages\\vtuIO.py\u001b[0m in \u001b[0;36m__init__\u001b[1;34m(self, filename, nneighbors, dim, one_d_axis, two_d_planenormal, interpolation_backend)\u001b[0m\n\u001b[0;32m    645\u001b[0m             \u001b[0mself\u001b[0m\u001b[1;33m.\u001b[0m\u001b[0mfolder\u001b[0m\u001b[1;33m,\u001b[0m \u001b[0mself\u001b[0m\u001b[1;33m.\u001b[0m\u001b[0mfilename\u001b[0m \u001b[1;33m=\u001b[0m \u001b[0mos\u001b[0m\u001b[1;33m.\u001b[0m\u001b[0mpath\u001b[0m\u001b[1;33m.\u001b[0m\u001b[0msplit\u001b[0m\u001b[1;33m(\u001b[0m\u001b[0mfilename\u001b[0m\u001b[1;33m)\u001b[0m\u001b[1;33m\u001b[0m\u001b[1;33m\u001b[0m\u001b[0m\n\u001b[0;32m    646\u001b[0m         \u001b[1;32melse\u001b[0m\u001b[1;33m:\u001b[0m\u001b[1;33m\u001b[0m\u001b[1;33m\u001b[0m\u001b[0m\n\u001b[1;32m--> 647\u001b[1;33m             \u001b[1;32mraise\u001b[0m \u001b[0mRuntimeError\u001b[0m\u001b[1;33m(\u001b[0m\u001b[1;34mf\"File not found: {filename}\"\u001b[0m\u001b[1;33m)\u001b[0m\u001b[1;33m\u001b[0m\u001b[1;33m\u001b[0m\u001b[0m\n\u001b[0m\u001b[0;32m    648\u001b[0m         \u001b[0mself\u001b[0m\u001b[1;33m.\u001b[0m\u001b[0mnneighbors\u001b[0m \u001b[1;33m=\u001b[0m \u001b[0mnneighbors\u001b[0m\u001b[1;33m\u001b[0m\u001b[1;33m\u001b[0m\u001b[0m\n\u001b[0;32m    649\u001b[0m         \u001b[0mself\u001b[0m\u001b[1;33m.\u001b[0m\u001b[0mtimesteps\u001b[0m \u001b[1;33m=\u001b[0m \u001b[0mnp\u001b[0m\u001b[1;33m.\u001b[0m\u001b[0marray\u001b[0m\u001b[1;33m(\u001b[0m\u001b[1;33m[\u001b[0m\u001b[1;33m]\u001b[0m\u001b[1;33m)\u001b[0m\u001b[1;33m\u001b[0m\u001b[1;33m\u001b[0m\u001b[0m\n",
      "\u001b[1;31mRuntimeError\u001b[0m: File not found: square_1e1_neumann.pvd"
     ]
    }
   ],
   "source": [
    "import os\n",
    "\n",
    "prj_name = \"square_1e1_neumann\"\n",
    "data_dir = os.environ.get('OGS_DATA_DIR', r'C:\\Users\\Andrea\\Downloads\\ogs-master\\ogs-master\\Tests\\Data')\n",
    "prj_file = f\"{data_dir}/EllipticPETSc/{prj_name}.prj\"\n",
    "out_dir = os.environ.get('OGS_TESTRUNNER_OUT_DIR', '_out')\n",
    "\n",
    "if not os.path.exists(out_dir):\n",
    "    os.makedirs(out_dir)\n",
    "os.chdir(out_dir)\n",
    "\n",
    "print(f\"mpirun -np 2 ogs {prj_file} > out.txt\")\n",
    "! mpirun -np 2 ogs {prj_file} > out.txt\n",
    "\n",
    "from datetime import datetime\n",
    "print(datetime.now())\n",
    "\n",
    "import vtuIO\n",
    "\n",
    "pvdfile = vtuIO.PVDIO(f\"{prj_name}.pvd\", dim=2)\n",
    "time = pvdfile.timesteps\n",
    "points={'pt0': (0.3,0.5,0.0), 'pt1': (0.24,0.21,0.0)}\n",
    "pressure_linear = pvdfile.read_time_series(\"pressure\", points)\n",
    "\n",
    "import matplotlib.pyplot as plt\n",
    "plt.plot(time, pressure_linear[\"pt0\"], \"b-\", label=\"pt0 linear interpolated\")\n",
    "plt.plot(time, pressure_linear[\"pt1\"], \"r-\", label=\"pt1 linear interpolated\")\n",
    "plt.legend()\n",
    "plt.xlabel(\"t\")\n",
    "plt.ylabel(\"p\")"
   ]
  },
  {
   "cell_type": "code",
   "execution_count": 10,
   "id": "e5989d55",
   "metadata": {},
   "outputs": [
    {
     "ename": "AttributeError",
     "evalue": "module 'ogs' has no attribute 'SourceTerm'",
     "output_type": "error",
     "traceback": [
      "\u001b[1;31m---------------------------------------------------------------------------\u001b[0m",
      "\u001b[1;31mAttributeError\u001b[0m                            Traceback (most recent call last)",
      "\u001b[1;32m~\\AppData\\Local\\Temp/ipykernel_38508/3148377520.py\u001b[0m in \u001b[0;36m<module>\u001b[1;34m\u001b[0m\n\u001b[0;32m     18\u001b[0m \u001b[1;33m\u001b[0m\u001b[0m\n\u001b[0;32m     19\u001b[0m \u001b[1;31m# source term for the benchmark\u001b[0m\u001b[1;33m\u001b[0m\u001b[1;33m\u001b[0m\u001b[0m\n\u001b[1;32m---> 20\u001b[1;33m \u001b[1;32mclass\u001b[0m \u001b[0mSinXSinYSourceTerm\u001b[0m\u001b[1;33m(\u001b[0m\u001b[0mogs\u001b[0m\u001b[1;33m.\u001b[0m\u001b[0mSourceTerm\u001b[0m\u001b[1;33m)\u001b[0m\u001b[1;33m:\u001b[0m\u001b[1;33m\u001b[0m\u001b[1;33m\u001b[0m\u001b[0m\n\u001b[0m\u001b[0;32m     21\u001b[0m     \u001b[1;32mdef\u001b[0m \u001b[0mgetFlux\u001b[0m\u001b[1;33m(\u001b[0m\u001b[0mself\u001b[0m\u001b[1;33m,\u001b[0m \u001b[0mt\u001b[0m\u001b[1;33m,\u001b[0m \u001b[0mcoords\u001b[0m\u001b[1;33m,\u001b[0m \u001b[0mprimary_vars\u001b[0m\u001b[1;33m)\u001b[0m\u001b[1;33m:\u001b[0m\u001b[1;33m\u001b[0m\u001b[1;33m\u001b[0m\u001b[0m\n\u001b[0;32m     22\u001b[0m         \u001b[0mx\u001b[0m\u001b[1;33m,\u001b[0m \u001b[0my\u001b[0m\u001b[1;33m,\u001b[0m \u001b[0mz\u001b[0m \u001b[1;33m=\u001b[0m \u001b[0mcoords\u001b[0m\u001b[1;33m\u001b[0m\u001b[1;33m\u001b[0m\u001b[0m\n",
      "\u001b[1;31mAttributeError\u001b[0m: module 'ogs' has no attribute 'SourceTerm'"
     ]
    }
   ],
   "source": [
    "import OpenGeoSys\n",
    "from math import pi, sin\n",
    "\n",
    "a = 2.0 * pi\n",
    "b = 2.0 * pi\n",
    "\n",
    "\n",
    "def solution(x, y):\n",
    "    return sin(a * x - pi / 2.0) * sin(b * y - pi / 2.0)\n",
    "\n",
    "\n",
    "# - laplace(solution) = source term\n",
    "def laplace_solution(x, y):\n",
    "    return a * a * sin(a * x - pi / 2.0) * sin(b * y - pi / 2.0) + b * b * sin(\n",
    "        a * x - pi / 2.0\n",
    "    ) * sin(b * y - pi / 2.0)\n",
    "\n",
    "\n",
    "# source term for the benchmark\n",
    "class SinXSinYSourceTerm(OpenGeoSys.SourceTerm):\n",
    "    def getFlux(self, t, coords, primary_vars):\n",
    "        x, y, z = coords\n",
    "        value = laplace_solution(x, y)\n",
    "        Jac = [0.0]\n",
    "        return (value, Jac)\n",
    "\n",
    "\n",
    "# instantiate source term object referenced in OpenGeoSys' prj file\n",
    "sinx_siny_source_term = SinXSinYSourceTerm()"
   ]
  },
  {
   "cell_type": "code",
   "execution_count": null,
   "id": "e5fae0ff",
   "metadata": {},
   "outputs": [],
   "source": []
  }
 ],
 "metadata": {
  "kernelspec": {
   "display_name": "Python 3 (ipykernel)",
   "language": "python",
   "name": "python3"
  },
  "language_info": {
   "codemirror_mode": {
    "name": "ipython",
    "version": 3
   },
   "file_extension": ".py",
   "mimetype": "text/x-python",
   "name": "python",
   "nbconvert_exporter": "python",
   "pygments_lexer": "ipython3",
   "version": "3.9.7"
  }
 },
 "nbformat": 4,
 "nbformat_minor": 5
}
