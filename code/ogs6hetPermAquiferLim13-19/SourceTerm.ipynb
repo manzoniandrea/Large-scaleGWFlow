{
 "cells": [
  {
   "cell_type": "code",
   "execution_count": 51,
   "id": "7713d9b5",
   "metadata": {},
   "outputs": [
    {
     "ename": "ModuleNotFoundError",
     "evalue": "No module named 'OpenGeoSys'",
     "output_type": "error",
     "traceback": [
      "\u001b[1;31m---------------------------------------------------------------------------\u001b[0m",
      "\u001b[1;31mModuleNotFoundError\u001b[0m                       Traceback (most recent call last)",
      "\u001b[1;32m~\\AppData\\Local\\Temp/ipykernel_29540/3857057783.py\u001b[0m in \u001b[0;36m<module>\u001b[1;34m\u001b[0m\n\u001b[1;32m----> 1\u001b[1;33m \u001b[1;32mimport\u001b[0m \u001b[0mOpenGeoSys\u001b[0m\u001b[1;33m\u001b[0m\u001b[1;33m\u001b[0m\u001b[0m\n\u001b[0m\u001b[0;32m      2\u001b[0m \u001b[1;32mimport\u001b[0m \u001b[0mnumpy\u001b[0m \u001b[1;32mas\u001b[0m \u001b[0mnp\u001b[0m\u001b[1;33m\u001b[0m\u001b[1;33m\u001b[0m\u001b[0m\n\u001b[0;32m      3\u001b[0m \u001b[1;32mimport\u001b[0m \u001b[0mrasterio\u001b[0m\u001b[1;33m\u001b[0m\u001b[1;33m\u001b[0m\u001b[0m\n\u001b[0;32m      4\u001b[0m \u001b[1;33m\u001b[0m\u001b[0m\n\u001b[0;32m      5\u001b[0m \u001b[0mfile_name\u001b[0m \u001b[1;33m=\u001b[0m \u001b[1;34m'MEAN_RECHARGE_1998_2019.asc'\u001b[0m\u001b[1;33m\u001b[0m\u001b[1;33m\u001b[0m\u001b[0m\n",
      "\u001b[1;31mModuleNotFoundError\u001b[0m: No module named 'OpenGeoSys'"
     ]
    }
   ],
   "source": [
    "import OpenGeoSys\n",
    "import numpy as np\n",
    "import rasterio\n",
    "\n",
    "file_name = 'Recharge2013_2019_FIXED.tif'\n",
    "with rasterio.open(file_name) as src:\n",
    "    band1 = src.read(1)\n",
    "    height = band1.shape[0]\n",
    "    width = band1.shape[1]\n",
    "    cols, rows = np.meshgrid(np.arange(width), np.arange(height))\n",
    "    xs, ys = rasterio.transform.xy(src.transform, rows, cols)\n",
    "    lons= np.array(xs)[0]\n",
    "    lats = np.array(ys).T[0]\n",
    "band2 = 1000000*band1/1242399685\n",
    "\n",
    "def find_nearest(array, value):\n",
    "    if type(value) == float:\n",
    "        idx = (np.abs(array - value)).argmin()\n",
    "    else:\n",
    "        idx = np.zeros(len(value))\n",
    "        array = np.asarray(array)\n",
    "        for i in range(len(value)):\n",
    "            idx[i] = (np.abs(array - value[i])).argmin()\n",
    "    return idx\n",
    "\n",
    "# source term for the benchmark\n",
    "class Rain(OpenGeoSys.SourceTerm):\n",
    "    def getFlux(self, t, coords, primary_vars):\n",
    "        x, y, z = coords\n",
    "        idxX = find_nearest(lons , x)\n",
    "        idxY = find_nearest(lats , y)\n",
    "        value = band2[idxY,idxX] \n",
    "        Jac = [ 0.0 ]\n",
    "        return (value, Jac)\n",
    "\n",
    "# instantiate source term object referenced in OpenGeoSys' prj file\n",
    "rainSourceTerm = Rain()"
   ]
  },
  {
   "cell_type": "code",
   "execution_count": 60,
   "id": "483c8fe6",
   "metadata": {},
   "outputs": [],
   "source": [
    "# file_name = 'MEAN_RECHARGE_1998_2019.asc'\n",
    "# with rasterio.open(file_name) as src:\n",
    "#     band1 = src.read(1)\n",
    "#     height = band1.shape[0]\n",
    "#     width = band1.shape[1]\n",
    "#     cols, rows = np.meshgrid(np.arange(width), np.arange(height))\n",
    "#     xs, ys = rasterio.transform.xy(src.transform, rows, cols)\n",
    "#     lons= np.array(xs)[0]\n",
    "#     lats = np.array(ys).T[0]\n",
    "# band2 = band1/1242399685\n",
    "\n",
    "# def find_nearest(array, value):\n",
    "#     if type(value) == float:\n",
    "#         idx = (np.abs(array - value)).argmin()\n",
    "#     else:\n",
    "#         idx = np.zeros(len(value))\n",
    "#         array = np.asarray(array)\n",
    "#         for i in range(len(value)):\n",
    "#             idx[i] = (np.abs(array - value[i])).argmin()\n",
    "#     return idx"
   ]
  },
  {
   "cell_type": "code",
   "execution_count": 61,
   "id": "2030a0f3",
   "metadata": {},
   "outputs": [
    {
     "data": {
      "text/plain": [
       "0"
      ]
     },
     "execution_count": 61,
     "metadata": {},
     "output_type": "execute_result"
    }
   ],
   "source": [
    "# find_nearest(lons , 1.1)"
   ]
  },
  {
   "cell_type": "code",
   "execution_count": 46,
   "id": "64e9bf75",
   "metadata": {},
   "outputs": [
    {
     "data": {
      "text/plain": [
       "array([1.000e+00, 2.239e+03])"
      ]
     },
     "execution_count": 46,
     "metadata": {},
     "output_type": "execute_result"
    }
   ],
   "source": []
  },
  {
   "cell_type": "code",
   "execution_count": 47,
   "id": "080097aa",
   "metadata": {},
   "outputs": [
    {
     "data": {
      "text/plain": [
       "array([12.1, 20.6], dtype=float32)"
      ]
     },
     "execution_count": 47,
     "metadata": {},
     "output_type": "execute_result"
    }
   ],
   "source": []
  },
  {
   "cell_type": "code",
   "execution_count": 50,
   "id": "f47a07bb",
   "metadata": {},
   "outputs": [
    {
     "data": {
      "text/plain": [
       "array([[9.73921720e-09, 1.65808158e-08, 1.65808158e-08, ...,\n",
       "        1.84320713e-08, 1.67417937e-08, 1.66613055e-08],\n",
       "       [0.00000000e+00, 2.73663946e-08, 1.65808158e-08, ...,\n",
       "        1.67417937e-08, 1.83515816e-08, 1.82710935e-08],\n",
       "       [0.00000000e+00, 1.66613055e-08, 1.65808158e-08, ...,\n",
       "        1.83515816e-08, 1.83515816e-08, 1.82710935e-08],\n",
       "       ...,\n",
       "       [8.85383354e-09, 8.69285490e-09, 8.69285490e-09, ...,\n",
       "        2.31004557e-09, 2.39858401e-09, 2.35029042e-09],\n",
       "       [8.61236520e-09, 8.77334384e-09, 5.28815344e-09, ...,\n",
       "        2.31004557e-09, 2.36638828e-09, 2.30199664e-09],\n",
       "       [7.75112891e-09, 8.29040792e-09, 4.87765734e-09, ...,\n",
       "        2.31004557e-09, 2.35029042e-09, 2.26175198e-09]])"
      ]
     },
     "execution_count": 50,
     "metadata": {},
     "output_type": "execute_result"
    }
   ],
   "source": []
  },
  {
   "cell_type": "code",
   "execution_count": 49,
   "id": "ed0e0383",
   "metadata": {},
   "outputs": [
    {
     "data": {
      "text/plain": [
       "1242399685.039386"
      ]
     },
     "execution_count": 49,
     "metadata": {},
     "output_type": "execute_result"
    }
   ],
   "source": []
  },
  {
   "cell_type": "code",
   "execution_count": null,
   "id": "2d2e48ed",
   "metadata": {},
   "outputs": [],
   "source": []
  }
 ],
 "metadata": {
  "kernelspec": {
   "display_name": "Python 3 (ipykernel)",
   "language": "python",
   "name": "python3"
  },
  "language_info": {
   "codemirror_mode": {
    "name": "ipython",
    "version": 3
   },
   "file_extension": ".py",
   "mimetype": "text/x-python",
   "name": "python",
   "nbconvert_exporter": "python",
   "pygments_lexer": "ipython3",
   "version": "3.9.7"
  }
 },
 "nbformat": 4,
 "nbformat_minor": 5
}
