{
 "cells": [
  {
   "cell_type": "code",
   "execution_count": 1,
   "id": "e6b07c89",
   "metadata": {},
   "outputs": [],
   "source": [
    "import scipy.stats as stats\n",
    "import subprocess\n",
    "import scipy as sp\n",
    "import rasterio\n",
    "import numpy as np\n",
    "import meshio\n",
    "import pandas as pd\n",
    "from matplotlib import pyplot as plt\n",
    "import pyvista\n",
    "meshC =  pyvista.read(r\"C:\\Users\\Andrea\\Documents\\Flow\\OpenGeoSys\\ogs6hetPermAquiferLim13-19\\gridTetraCoarse.vtu\")"
   ]
  },
  {
   "cell_type": "code",
   "execution_count": 2,
   "id": "1b8e97a3",
   "metadata": {},
   "outputs": [],
   "source": [
    "\n",
    "df = pd.read_csv('C:\\\\Users\\\\Andrea\\\\Documents\\\\Flow\\\\Optimization\\\\headData\\\\averageInTime\\\\wellHeadPo2013_2020.csv')\n",
    "wellLoc = df\n",
    "wellLoc['Bottom'] = wellLoc['quota[m]']-wellLoc['depth']\n",
    "\n",
    "weights = np.loadtxt('weights.txt')\n",
    "\n",
    "nRecostruction = sum(weights[:,1])\n",
    "\n",
    "\n",
    "def flowSimulation(P):\n",
    "    #model parameters\n",
    "    \n",
    "    myfile = open(r\"C:\\Users\\Andrea\\Documents\\Flow\\OpenGeoSys\\ogs6hetPermAquiferLim13-19\\Po1HP.prj\", \"rt\")\n",
    "    contents = myfile.readlines()\n",
    "    myfile.close()\n",
    "    \n",
    "    wordX = 'permeability'\n",
    "    nameOfRivers = ['Adige','Secchia','DoraBaltea','Adda','Ticino','Chiese','Oglio','Tanaro','Po1','Po2','Po3','Po4','Po5','Po6','Reno','Lamone','Savio','none']\n",
    "    al = 0\n",
    "    worda = 'alpha' + nameOfRivers[al]\n",
    "    wordqm = 'qms'\n",
    "    wordh0 = 'h0'\n",
    "    j=0\n",
    "    qms = 0\n",
    "    h0 = 0\n",
    "    P0 = h0*9810\n",
    "    \n",
    "    # set the K parameters \n",
    "    Kappa1 = (10**P[0]*weights[0,:] + 10**P[1]*weights[1,:] + 10**P[2]*weights[2,:] + 10**P[3]*weights[3,:] + 10**P[4]*weights[4,:] + 10**P[5]*weights[5,:])/nRecostruction\n",
    "    meshC['Kappa1'] = Kappa1\n",
    "    meshC.save(r\"C:\\Users\\Andrea\\Documents\\Flow\\OpenGeoSys\\ogs6hetPermAquiferLim13-19\\gridTetraCoarse.vtu\")\n",
    "    for i in range(len(contents)):\n",
    "#         if wordX in contents[i]:\n",
    "#             value = contents[i+2].split('<value>').pop().split('</value>')[0]\n",
    "#             if j>0:\n",
    "#                 K = 10**P[j-1]\n",
    "#                 value2= str(K)\n",
    "#                 contents[i+2] = contents[i+2].replace(value, value2)\n",
    "#                 permName = 'k%1d' % j \n",
    "#                 print(permName, value2)\n",
    "#             j += 1\n",
    "\n",
    "    \n",
    "    \n",
    "    \n",
    "        #set the alpha values\n",
    "        if worda in contents[i]:\n",
    "            if '<value>' in contents[i+2]:\n",
    "                value = contents[i+2].split('<value>').pop().split('</value>')[0]\n",
    "                a = P[al+6]\n",
    "                value2= str(a)\n",
    "                contents[i+2] = contents[i+2].replace(value, value2)\n",
    "                print(worda, value2)\n",
    "                al += 1\n",
    "                worda = 'alpha' + nameOfRivers[al] \n",
    "                \n",
    "                \n",
    "                \n",
    "               \n",
    "        #set the qm values          \n",
    "        if wordqm in contents[i]:\n",
    "              if '<value>' in contents[i+2]:\n",
    "                    value = contents[i+2].split('<value>').pop().split('</value>')[0]\n",
    "                    qmsValue2 = P[-1]*float(value)\n",
    "                    value2= str(qmsValue2)\n",
    "                    contents[i+2] = contents[i+2].replace(value, value2)                    \n",
    "                    print('C_qms', qms+1 ,':', P[-1],';', 'qms', qms+1 , ':' , value2)\n",
    "                    qms += 1\n",
    "        if wordh0 in contents[i]:\n",
    "              if '<value>' in contents[i+2]:\n",
    "                    value = contents[i+2].split('<value>').pop().split('</value>')[0]\n",
    "                    value2= str(P0)\n",
    "                    contents[i+2] = contents[i+2].replace(value, value2)                    \n",
    "    \n",
    "    \n",
    "            \n",
    "    with open(r\"C:\\Users\\Andrea\\Documents\\Flow\\OpenGeoSys\\ogs6hetPermAquiferLim13-19\\Po2.prj\", 'w') as file:\n",
    "        file.writelines( contents )\n",
    "    \n",
    "    \n",
    "    subprocess.check_call([r\"C:\\Users\\Andrea\\Documents\\Flow\\OpenGeoSys\\ogs-6.4.3-16-g9a7564950-Windows-10.0.22000-python-3.10.7-utils\\bin\\ogs.exe\", r\"C:\\Users\\Andrea\\Documents\\Flow\\OpenGeoSys\\ogs6hetPermAquiferLim13-19\\Po2.prj\"])\n",
    "\n",
    "    mesh = meshio.read(r\"C:\\Users\\Andrea\\Documents\\Flow\\OpenGeoSys\\ogs6hetPermAquiferLim13-19\\Po_ts_1_t_1.000000.vtu\")\n",
    "    data = mesh.points\n",
    "    sample = np.array([wellLoc.longitude,wellLoc.latitude,wellLoc.Bottom]).T\n",
    "    kdtree=sp.spatial.KDTree(data)\n",
    "    dist,points=kdtree.query(sample,1)\n",
    "    simulatedH = (mesh.point_data['pressure'][points].T)/9810+sample[:,2]\n",
    "    fobj = (sum(((simulatedH-np.array(wellLoc['head[m]']))**2)**(1/2)))/len(wellLoc['head[m]'])\n",
    "    print('RMSE: ',fobj)\n",
    "    return fobj"
   ]
  },
  {
   "cell_type": "code",
   "execution_count": 3,
   "id": "4e145a79",
   "metadata": {},
   "outputs": [
    {
     "name": "stdout",
     "output_type": "stream",
     "text": [
      "UnstructuredGrid (0x1d46c22bca0)\n",
      "  N Cells:\t67959\n",
      "  N Points:\t36036\n",
      "  X Bounds:\t6.022e+05, 1.050e+06\n",
      "  Y Bounds:\t5.449e+06, 5.631e+06\n",
      "  Z Bounds:\t-3.500e+02, 6.044e+02\n",
      "  N Arrays:\t3\n",
      "\n"
     ]
    }
   ],
   "source": [
    "print(meshC)"
   ]
  },
  {
   "cell_type": "code",
   "execution_count": 4,
   "id": "3287e6a1",
   "metadata": {},
   "outputs": [
    {
     "ename": "IndentationError",
     "evalue": "unexpected indent (238016746.py, line 11)",
     "output_type": "error",
     "traceback": [
      "\u001b[1;36m  File \u001b[1;32m\"C:\\Users\\Andrea\\AppData\\Local\\Temp\\ipykernel_38408\\238016746.py\"\u001b[1;36m, line \u001b[1;32m11\u001b[0m\n\u001b[1;33m    x1: array([ -8.72790795,  -8.59778023,  -8.26612873,  -9.76895812,\u001b[0m\n\u001b[1;37m    ^\u001b[0m\n\u001b[1;31mIndentationError\u001b[0m\u001b[1;31m:\u001b[0m unexpected indent\n"
     ]
    }
   ],
   "source": [
    "P = [ -8.72790795,    #log_10(k1)\n",
    "     -8.59778023,     #log_10(k2)\n",
    "     -8.26612873,   #log_10(k3)\n",
    "     -9.76895812,    #log_10(k4)\n",
    "     -12.52132462,    #log_10(k5)\n",
    "     -15.84890911,     #log_10(k6)\n",
    "     7.094148178760728e-06,  #alpha\n",
    "     1.86339251,     #C_qms1-29\n",
    "    ]\n",
    "\n",
    " x1: array([ -8.72790795,  -8.59778023,  -8.26612873,  -9.76895812,\n",
    "       -12.52132462, -15.84890911,   1.86339251])\n",
    "      x2: array([1.49797686e-05, 8.10629932e-05, 8.04589383e-06, 3.17875276e-08,\n",
    "       4.48833080e-05, 7.55152160e-05, 6.77841116e-05, 4.46926834e-05,\n",
    "       4.91272024e-05, 8.46664613e-05, 3.50995019e-05, 4.80618150e-05,\n",
    "       6.01917886e-05, 5.57197705e-05, 5.62985577e-05, 4.68726223e-05,\n",
    "       8.10237680e-05])\n"
   ]
  },
  {
   "cell_type": "code",
   "execution_count": null,
   "id": "4fde7a13",
   "metadata": {
    "scrolled": true
   },
   "outputs": [],
   "source": [
    "#2run the model with the parameters set in P\n",
    "flowSimulation(P)"
   ]
  },
  {
   "cell_type": "code",
   "execution_count": null,
   "id": "1ce2bfcd",
   "metadata": {},
   "outputs": [],
   "source": [
    "#plot the error  in a map\n",
    "mesh = meshio.read(r\"C:\\Users\\Andrea\\Documents\\Flow\\OpenGeoSys\\ogs6hetPermAquiferLim13-19\\Po_ts_1_t_1.000000.vtu\")\n",
    "data = mesh.points\n",
    "sample = np.array([wellLoc.longitude,wellLoc.latitude,wellLoc.Bottom]).T\n",
    "kdtree=sp.spatial.KDTree(data)\n",
    "dist,points=kdtree.query(sample,1)\n",
    "simulatedH = (mesh.point_data['pressure'][points].T)/9810+sample[:,2]\n",
    "\n",
    "fobj = (sum(((simulatedH-np.array(wellLoc['head[m]']))**2)**(1/2)))/len(wellLoc['head[m]'])\n",
    "print('fobj:',fobj)\n",
    "err = simulatedH-np.array(wellLoc['head[m]'])\n",
    "img = plt.imread(r\"C:\\Users\\Andrea\\Documents\\Flow\\Optimization\\background.tif\")\n",
    "img = np.array(img)\n",
    "img[:,:,3] = img[:,:,3]*0.32\n",
    "ext = [540000.0000, 1100000.0000,5400000.0000,5740000.0000]\n",
    "plt.imshow(img, zorder=0, extent=ext)\n",
    "plt.scatter(sample[:,0],sample[:,1],zorder=1, s=10, c=err, cmap='gist_rainbow', vmin=min(err), vmax=max(err))#vmin=min(err), vmax=max(err))\n",
    "plt.colorbar()\n",
    "plt.title('simulated-measure')\n",
    "plt.show()"
   ]
  },
  {
   "cell_type": "code",
   "execution_count": null,
   "id": "cab792b9",
   "metadata": {},
   "outputs": [],
   "source": [
    "counts, bins = np.histogram(err,bins=100, density=True)\n",
    "plt.stairs(counts, bins,fill=True)\n",
    "plt.xlabel('err = f_simulated-f_measured')\n",
    "plt.axvline(x = np.average(err), color = 'g', label = 'Average error')\n",
    "plt.axvline(x = np.average(err) + np.std(err), color = 'r', label = 'Avg + std')\n",
    "plt.axvline(x = np.average(err) - np.std(err), color = 'r', label = 'Avg - std')\n",
    "mu = np.average(err)\n",
    "sigma =  np.std(err)\n",
    "x = np.linspace(mu - 5*sigma, mu + 5*sigma, 100)\n",
    "plt.plot(x, stats.norm.pdf(x, mu, sigma),label = 'Normal Distribution')\n",
    "plt.legend()\n",
    "print('Average error:', mu)\n",
    "print('error standard deviation:', sigma)\n"
   ]
  },
  {
   "cell_type": "code",
   "execution_count": null,
   "id": "fec6f4de",
   "metadata": {},
   "outputs": [],
   "source": []
  },
  {
   "cell_type": "code",
   "execution_count": null,
   "id": "cfe7e909",
   "metadata": {},
   "outputs": [],
   "source": []
  },
  {
   "cell_type": "code",
   "execution_count": null,
   "id": "e25a7545",
   "metadata": {},
   "outputs": [],
   "source": []
  },
  {
   "cell_type": "code",
   "execution_count": null,
   "id": "fdc1b792",
   "metadata": {},
   "outputs": [],
   "source": []
  },
  {
   "cell_type": "code",
   "execution_count": null,
   "id": "b828d1b1",
   "metadata": {},
   "outputs": [],
   "source": []
  },
  {
   "cell_type": "code",
   "execution_count": null,
   "id": "fe3729ed",
   "metadata": {},
   "outputs": [],
   "source": []
  },
  {
   "cell_type": "code",
   "execution_count": null,
   "id": "c8d9bcdf",
   "metadata": {},
   "outputs": [],
   "source": []
  },
  {
   "cell_type": "code",
   "execution_count": null,
   "id": "7f68097b",
   "metadata": {},
   "outputs": [],
   "source": []
  }
 ],
 "metadata": {
  "kernelspec": {
   "display_name": "Python 3 (ipykernel)",
   "language": "python",
   "name": "python3"
  },
  "language_info": {
   "codemirror_mode": {
    "name": "ipython",
    "version": 3
   },
   "file_extension": ".py",
   "mimetype": "text/x-python",
   "name": "python",
   "nbconvert_exporter": "python",
   "pygments_lexer": "ipython3",
   "version": "3.9.7"
  },
  "vscode": {
   "interpreter": {
    "hash": "c27bedd56da27e739c543acd41cc9031fe9b04d3366ad916baa73e602483ec56"
   }
  }
 },
 "nbformat": 4,
 "nbformat_minor": 5
}
